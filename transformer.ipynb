{
 "cells": [
  {
   "cell_type": "code",
   "execution_count": 10,
   "id": "initial_id",
   "metadata": {
    "collapsed": true,
    "ExecuteTime": {
     "end_time": "2023-12-02T13:56:00.354863Z",
     "start_time": "2023-12-02T13:56:00.350328Z"
    }
   },
   "outputs": [],
   "source": [
    "import torch\n",
    "from torch import nn, Tensor\n",
    "import torch.optim as optim\n",
    "from torch.utils.data import Dataset, DataLoader\n",
    "from torch.nn.utils.rnn import pad_sequence\n",
    "from torchtext.vocab import build_vocab_from_iterator\n",
    "from torchtext.data.utils import get_tokenizer\n",
    "import math"
   ]
  },
  {
   "cell_type": "markdown",
   "source": [],
   "metadata": {
    "collapsed": false
   },
   "id": "21fd42030e79331c"
  },
  {
   "cell_type": "code",
   "execution_count": 11,
   "outputs": [],
   "source": [
    "class PositionalEncoding(nn.Module):\n",
    "    def __init__(self, d_model, dropout=0.1, max_len=5000):\n",
    "        super().__init__()\n",
    "        self.dropout = nn.Dropout(p=dropout)\n",
    "\n",
    "        position = torch.arange(max_len).unsqueeze(1)\n",
    "        div_term = torch.exp(torch.arange(0, d_model, 2) * (-math.log(10000.0) / d_model))\n",
    "        pe = torch.zeros(max_len, 1, d_model)\n",
    "        pe[:, 0, 0::2] = torch.sin(position * div_term)\n",
    "        pe[:, 0, 1::2] = torch.cos(position * div_term)\n",
    "        self.register_buffer('pe', pe)\n",
    "\n",
    "    def forward(self, x):\n",
    "        x = x + self.pe[:x.size(0)]\n",
    "        return self.dropout(x)"
   ],
   "metadata": {
    "collapsed": false,
    "ExecuteTime": {
     "end_time": "2023-12-02T13:56:02.655915Z",
     "start_time": "2023-12-02T13:56:02.653637Z"
    }
   },
   "id": "b42f958b7867de79"
  },
  {
   "cell_type": "code",
   "execution_count": 12,
   "outputs": [],
   "source": [
    "class TransformerModel(nn.Module):\n",
    "    def __init__(self, ntoken: int, d_model: int, nhead: int, d_hid: int, nlayers: int, dropout: float):\n",
    "        super(TransformerModel, self).__init__()\n",
    "        self.model_type = 'Transformer'\n",
    "        self.d_model = d_model\n",
    "        self.embedding = nn.Embedding(ntoken, d_model)\n",
    "        self.pos_encoder = PositionalEncoding(d_model, dropout)\n",
    "        encoder_layers = nn.TransformerEncoderLayer(d_model, nhead, d_hid, dropout)\n",
    "        self.transformer_encoder = nn.TransformerEncoder(encoder_layers, nlayers)\n",
    "        self.linear = nn.Linear(d_model, ntoken)\n",
    "        self.init_weights()\n",
    "        \n",
    "    def init_weights(self) -> None:\n",
    "        initrange = 0.1\n",
    "        self.embedding.weight.data.uniform_(-initrange, initrange)\n",
    "        self.linear.bias.data.zero_()\n",
    "        self.linear.weight.data.uniform_(-initrange, initrange)\n",
    "        \n",
    "    # def forward(self, src, src_mask=None):\n",
    "    #     src = self.embedding(src) * math.sqrt(self.d_model)\n",
    "    #     src = self.pos_encoder(src)\n",
    "    #     output = self.transformer_encoder(src, src_mask)\n",
    "    #     output = self.linear(output)\n",
    "    #     return output\n",
    "    \n",
    "    def forward(self, src: Tensor, src_mask: Tensor = None) -> Tensor:\n",
    "        \"\"\"\n",
    "        Arguments:\n",
    "            src: Tensor, shape ``[seq_len, batch_size]``\n",
    "            src_mask: Tensor, shape ``[seq_len, seq_len]``\n",
    "\n",
    "        Returns:\n",
    "            output Tensor of shape ``[seq_len, batch_size, ntoken]``\n",
    "        \"\"\"\n",
    "        src = self.embedding(src) * math.sqrt(self.d_model)\n",
    "        src = self.pos_encoder(src)\n",
    "        if src_mask is None:\n",
    "            \"\"\"Generate a square causal mask for the sequence. The masked positions are filled with float('-inf').\n",
    "            Unmasked positions are filled with float(0.0).\n",
    "            \"\"\"\n",
    "            src_mask = nn.Transformer.generate_square_subsequent_mask(len(src)).to(device)\n",
    "        output = self.transformer_encoder(src, src_mask)\n",
    "        output = self.linear(output)\n",
    "        return output"
   ],
   "metadata": {
    "collapsed": false,
    "ExecuteTime": {
     "end_time": "2023-12-02T13:56:05.032512Z",
     "start_time": "2023-12-02T13:56:05.029362Z"
    }
   },
   "id": "9cc353cbe52ade0d"
  },
  {
   "cell_type": "code",
   "execution_count": 13,
   "outputs": [],
   "source": [
    "# def build_vocab(filepath, tokenizer):\n",
    "#     counter = Counter()\n",
    "#     with open(filepath, encoding='utf-8') as file:\n",
    "#         for line in file:\n",
    "#             if not line.startswith('-DOCSTART-') and line != '\\n':\n",
    "#                 word = line.strip().split()[0]\n",
    "#                 counter.update(tokenizer(word))\n",
    "#     return build_vocab_from_iterator([counter])\n",
    "def load_data(file_path):\n",
    "    \"\"\"\n",
    "      a sentence is the first word of each line before seeing a blank line\n",
    "      same for label but is the forth word\n",
    "    \"\"\"\n",
    "    with open(file_path, encoding='utf-8') as file:\n",
    "        lines = file.readlines()\n",
    "\n",
    "    sentences, labels = [], []\n",
    "    sentence, sentence_labels = [], []\n",
    "    for line in lines:\n",
    "        if line.startswith(\"-DOCSTART-\") or line == \"\\n\":\n",
    "            if sentence:\n",
    "                sentences.append(sentence)\n",
    "                labels.append(sentence_labels)\n",
    "                sentence, sentence_labels = [], []\n",
    "        else:\n",
    "            parts = line.split()\n",
    "            sentence.append(parts[0])\n",
    "            sentence_labels.append(parts[-1])\n",
    "\n",
    "    return sentences, labels\n",
    "\n",
    "def build_vocab(data_iter):\n",
    "    specials = ['<unk>', '<pad>']\n",
    "    vocab = build_vocab_from_iterator(data_iter, specials=specials)\n",
    "    vocab.set_default_index(vocab['<unk>'])\n",
    "    return vocab"
   ],
   "metadata": {
    "collapsed": false,
    "ExecuteTime": {
     "end_time": "2023-12-02T13:59:18.836511Z",
     "start_time": "2023-12-02T13:59:18.832667Z"
    }
   },
   "id": "66ffa74c6b787559"
  },
  {
   "cell_type": "code",
   "execution_count": 6,
   "outputs": [],
   "source": [
    "class NERDataset(Dataset):\n",
    "    def __init__(self, filepath, word_vocab, tag_vocab, tokenizer):\n",
    "        self.data = []\n",
    "        with open(filepath, encoding='utf-8') as file:\n",
    "            sentence, tags = [], []\n",
    "            for line in file:\n",
    "                if line.startswith('-DOCSTART-') or line == '\\n':\n",
    "                    if sentence:\n",
    "                        self.data.append((sentence, tags))\n",
    "                        sentence, tags = [], []\n",
    "                else:\n",
    "                    word, _, _, tag = line.strip().split()\n",
    "                    sentence.append(word)\n",
    "                    tags.append(tag)\n",
    "            if sentence:\n",
    "                self.data.append((sentence, tags))\n",
    "        self.word_vocab = word_vocab\n",
    "        self.tag_vocab = tag_vocab\n",
    "        self.tokenizer = tokenizer\n",
    "\n",
    "    def __len__(self):\n",
    "        return len(self.data)\n",
    "\n",
    "    def __getitem__(self, idx):\n",
    "        words, tags = self.data[idx]\n",
    "        return torch.tensor([self.word_vocab[token] for token in self.tokenizer(' '.join(words))], dtype=torch.long), torch.tensor([self.tag_vocab[tag] for tag in tags], dtype=torch.long)"
   ],
   "metadata": {
    "collapsed": false,
    "ExecuteTime": {
     "end_time": "2023-12-02T12:26:18.577821Z",
     "start_time": "2023-12-02T12:26:18.571384Z"
    }
   },
   "id": "ec0355b6c0eebc84"
  },
  {
   "cell_type": "code",
   "execution_count": 7,
   "outputs": [],
   "source": [
    "def collate_batch(batch):\n",
    "    tag_list, word_list = [], []\n",
    "    for words, tags in batch:\n",
    "        tag_list.append(tags)\n",
    "        word_list.append(words)\n",
    "    word_list = pad_sequence(word_list, padding_value=word_vocab['<pad>'])\n",
    "    tag_list = pad_sequence(tag_list, padding_value=tag_vocab['<pad>'])\n",
    "    return word_list, tag_list"
   ],
   "metadata": {
    "collapsed": false,
    "ExecuteTime": {
     "end_time": "2023-12-02T12:37:00.604303Z",
     "start_time": "2023-12-02T12:37:00.589634Z"
    }
   },
   "id": "647f9297687a4849"
  },
  {
   "cell_type": "code",
   "execution_count": 8,
   "outputs": [],
   "source": [
    "def train(model, train_loader, optimizer, criterion):\n",
    "    model.train()\n",
    "    total_loss = 0\n",
    "    for batch, (data, targets) in enumerate(train_loader):\n",
    "        optimizer.zero_grad()\n",
    "        output = model(data)\n",
    "        loss = criterion(output.view(-1, output.shape[-1]), targets.view(-1))\n",
    "        loss.backward()\n",
    "        optimizer.step()\n",
    "        total_loss += loss.item()\n",
    "    return total_loss / len(train_loader)"
   ],
   "metadata": {
    "collapsed": false,
    "ExecuteTime": {
     "end_time": "2023-12-02T12:37:14.578379Z",
     "start_time": "2023-12-02T12:37:14.569953Z"
    }
   },
   "id": "17981615bee1c509"
  },
  {
   "cell_type": "code",
   "execution_count": 9,
   "outputs": [],
   "source": [
    "def evaluate(model, val_loader, criterion):\n",
    "    model.eval()\n",
    "    total_loss = 0\n",
    "    with torch.no_grad():\n",
    "        for batch, (data, targets) in enumerate(val_loader):\n",
    "            output = model(data)\n",
    "            loss = criterion(output.view(-1, output.shape[-1]), targets.view(-1))\n",
    "            total_loss += loss.item()\n",
    "    return total_loss / len(val_loader)"
   ],
   "metadata": {
    "collapsed": false,
    "ExecuteTime": {
     "end_time": "2023-12-02T12:37:16.492698Z",
     "start_time": "2023-12-02T12:37:16.487085Z"
    }
   },
   "id": "a2f4ca9e3e730766"
  },
  {
   "cell_type": "code",
   "execution_count": null,
   "outputs": [],
   "source": [
    "\n",
    "\n",
    "# 加载数据和构建词汇表\n",
    "tokenizer = get_tokenizer('basic_english')\n",
    "sentences, labels = load_data(\"conll2003/train.txt\")\n",
    "word_vocab = build_vocab(sentences)\n",
    "tag_vocab = build_vocab(labels)  # 需要为标签构建词汇表\n",
    "\n",
    "ntokens = len(word_vocab)  # 词汇表的大小（需要根据您的数据集调整）\n",
    "d_model = 512    # 嵌入向量的维度\n",
    "nhead = 8        # 多头注意力中的头数\n",
    "d_hid = 1024     # 前馈网络中间层的维度\n",
    "nlayers = 4      # Transformer 编码器中的层数\n",
    "dropout = 0.2    # 用于正则化的丢弃率\n",
    "batch_size = 32  # 批处理大小\n",
    "epochs = 10      # 训练周期数\n",
    "\n",
    "train_dataset = NERDataset('conll2003/train.txt', word_vocab, tag_vocab, tokenizer)\n",
    "train_loader = DataLoader(train_dataset, batch_size=batch_size, shuffle=True, collate_fn=collate_batch)\n",
    "\n",
    "val_dataset = NERDataset('conll2003/valid.txt', word_vocab, tag_vocab, tokenizer)\n",
    "val_loader = DataLoader(val_dataset, batch_size=batch_size, shuffle=False, collate_fn=collate_batch)\n",
    "\n",
    "# 初始化模型、损失函数和优化器\n",
    "device = torch.device('cuda' if torch.cuda.is_available() else 'cpu')\n",
    "\n",
    "model = TransformerModel(ntokens, d_model, nhead, d_hid, nlayers, dropout).to(device)\n",
    "criterion = nn.CrossEntropyLoss()\n",
    "optimizer = optim.SGD(model.parameters(), lr=0.01)\n",
    "\n",
    "# 训练和评估模型\n",
    "for epoch in range(epochs):\n",
    "    train_loss = train(model, train_loader, optimizer, criterion)\n",
    "    val_loss = evaluate(model, val_loader, criterion)\n",
    "    print(f'Epoch: {epoch}, Training Loss: {train_loss}, Validation Loss: {val_loss}')"
   ],
   "metadata": {
    "collapsed": false
   },
   "id": "fec9cd37244833b7"
  }
 ],
 "metadata": {
  "kernelspec": {
   "display_name": "Python 3",
   "language": "python",
   "name": "python3"
  },
  "language_info": {
   "codemirror_mode": {
    "name": "ipython",
    "version": 2
   },
   "file_extension": ".py",
   "mimetype": "text/x-python",
   "name": "python",
   "nbconvert_exporter": "python",
   "pygments_lexer": "ipython2",
   "version": "2.7.6"
  }
 },
 "nbformat": 4,
 "nbformat_minor": 5
}
